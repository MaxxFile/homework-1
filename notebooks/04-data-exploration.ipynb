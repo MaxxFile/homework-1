{
 "cells": [
  {
   "cell_type": "markdown",
   "metadata": {},
   "source": [
    "# Data Exploration #\n",
    "[According To Super Bowl Ads, Americans Love America, Animals And Sex](https://github.com/fivethirtyeight/superbowl-ads)\n",
    "<br>___Data from Feb. 4, 2021 from fivethrityeight.com___<br><br>"
   ]
  },
  {
   "cell_type": "markdown",
   "metadata": {},
   "source": [
    "## Imports ##"
   ]
  },
  {
   "cell_type": "code",
   "execution_count": 1,
   "metadata": {},
   "outputs": [],
   "source": [
    "import pandas as pd\n",
    "import altair as alt"
   ]
  },
  {
   "cell_type": "markdown",
   "metadata": {},
   "source": []
  },
  {
   "cell_type": "markdown",
   "metadata": {},
   "source": [
    "## Prepare Data ##\n",
    "Create Dataframe and prepare data for analysis\n"
   ]
  },
  {
   "cell_type": "code",
   "execution_count": 2,
   "metadata": {},
   "outputs": [
    {
     "data": {
      "text/html": [
       "<div>\n",
       "<style scoped>\n",
       "    .dataframe tbody tr th:only-of-type {\n",
       "        vertical-align: middle;\n",
       "    }\n",
       "\n",
       "    .dataframe tbody tr th {\n",
       "        vertical-align: top;\n",
       "    }\n",
       "\n",
       "    .dataframe thead th {\n",
       "        text-align: right;\n",
       "    }\n",
       "</style>\n",
       "<table border=\"1\" class=\"dataframe\">\n",
       "  <thead>\n",
       "    <tr style=\"text-align: right;\">\n",
       "      <th></th>\n",
       "      <th>year</th>\n",
       "      <th>brand</th>\n",
       "      <th>superbowl_ads_dot_com_url</th>\n",
       "      <th>youtube_url</th>\n",
       "      <th>funny</th>\n",
       "      <th>show_product_quickly</th>\n",
       "      <th>patriotic</th>\n",
       "      <th>celebrity</th>\n",
       "      <th>danger</th>\n",
       "      <th>animals</th>\n",
       "      <th>use_sex</th>\n",
       "    </tr>\n",
       "  </thead>\n",
       "  <tbody>\n",
       "    <tr>\n",
       "      <th>0</th>\n",
       "      <td>2018</td>\n",
       "      <td>Toyota</td>\n",
       "      <td>https://superbowl-ads.com/good-odds-toyota/</td>\n",
       "      <td>https://www.youtube.com/watch?v=zeBZvwYQ-hA</td>\n",
       "      <td>False</td>\n",
       "      <td>False</td>\n",
       "      <td>False</td>\n",
       "      <td>False</td>\n",
       "      <td>False</td>\n",
       "      <td>False</td>\n",
       "      <td>False</td>\n",
       "    </tr>\n",
       "    <tr>\n",
       "      <th>1</th>\n",
       "      <td>2020</td>\n",
       "      <td>Bud Light</td>\n",
       "      <td>https://superbowl-ads.com/2020-bud-light-seltz...</td>\n",
       "      <td>https://www.youtube.com/watch?v=nbbp0VW7z8w</td>\n",
       "      <td>True</td>\n",
       "      <td>True</td>\n",
       "      <td>False</td>\n",
       "      <td>True</td>\n",
       "      <td>True</td>\n",
       "      <td>False</td>\n",
       "      <td>False</td>\n",
       "    </tr>\n",
       "    <tr>\n",
       "      <th>2</th>\n",
       "      <td>2006</td>\n",
       "      <td>Bud Light</td>\n",
       "      <td>https://superbowl-ads.com/2006-bud-light-bear-...</td>\n",
       "      <td>https://www.youtube.com/watch?v=yk0MQD5YgV8</td>\n",
       "      <td>True</td>\n",
       "      <td>False</td>\n",
       "      <td>False</td>\n",
       "      <td>False</td>\n",
       "      <td>True</td>\n",
       "      <td>True</td>\n",
       "      <td>False</td>\n",
       "    </tr>\n",
       "    <tr>\n",
       "      <th>3</th>\n",
       "      <td>2018</td>\n",
       "      <td>Hynudai</td>\n",
       "      <td>https://superbowl-ads.com/hope-detector-nfl-su...</td>\n",
       "      <td>https://www.youtube.com/watch?v=lNPccrGk77A</td>\n",
       "      <td>False</td>\n",
       "      <td>True</td>\n",
       "      <td>False</td>\n",
       "      <td>False</td>\n",
       "      <td>False</td>\n",
       "      <td>False</td>\n",
       "      <td>False</td>\n",
       "    </tr>\n",
       "    <tr>\n",
       "      <th>4</th>\n",
       "      <td>2003</td>\n",
       "      <td>Bud Light</td>\n",
       "      <td>https://superbowl-ads.com/2003-bud-light-hermi...</td>\n",
       "      <td>https://www.youtube.com/watch?v=ovQYgnXHooY</td>\n",
       "      <td>True</td>\n",
       "      <td>True</td>\n",
       "      <td>False</td>\n",
       "      <td>False</td>\n",
       "      <td>True</td>\n",
       "      <td>True</td>\n",
       "      <td>True</td>\n",
       "    </tr>\n",
       "  </tbody>\n",
       "</table>\n",
       "</div>"
      ],
      "text/plain": [
       "   year      brand                          superbowl_ads_dot_com_url  \\\n",
       "0  2018     Toyota        https://superbowl-ads.com/good-odds-toyota/   \n",
       "1  2020  Bud Light  https://superbowl-ads.com/2020-bud-light-seltz...   \n",
       "2  2006  Bud Light  https://superbowl-ads.com/2006-bud-light-bear-...   \n",
       "3  2018    Hynudai  https://superbowl-ads.com/hope-detector-nfl-su...   \n",
       "4  2003  Bud Light  https://superbowl-ads.com/2003-bud-light-hermi...   \n",
       "\n",
       "                                   youtube_url  funny  show_product_quickly  \\\n",
       "0  https://www.youtube.com/watch?v=zeBZvwYQ-hA  False                 False   \n",
       "1  https://www.youtube.com/watch?v=nbbp0VW7z8w   True                  True   \n",
       "2  https://www.youtube.com/watch?v=yk0MQD5YgV8   True                 False   \n",
       "3  https://www.youtube.com/watch?v=lNPccrGk77A  False                  True   \n",
       "4  https://www.youtube.com/watch?v=ovQYgnXHooY   True                  True   \n",
       "\n",
       "   patriotic  celebrity  danger  animals  use_sex  \n",
       "0      False      False   False    False    False  \n",
       "1      False       True    True    False    False  \n",
       "2      False      False    True     True    False  \n",
       "3      False      False   False    False    False  \n",
       "4      False      False    True     True     True  "
      ]
     },
     "execution_count": 2,
     "metadata": {},
     "output_type": "execute_result"
    }
   ],
   "source": [
    "pd.read_csv(\"../data/external/data.csv\").head()"
   ]
  },
  {
   "cell_type": "code",
   "execution_count": 3,
   "metadata": {},
   "outputs": [],
   "source": [
    "df = pd.DataFrame({})\n",
    "\n",
    "df"
   ]
  },
  {
   "cell_type": "code",
   "execution_count": null,
   "metadata": {},
   "outputs": [],
   "source": []
  }
 ],
 "metadata": {
  "kernelspec": {
   "display_name": "Python 3.9.13 ('webscraping')",
   "language": "python",
   "name": "python3"
  },
  "language_info": {
   "codemirror_mode": {
    "name": "ipython",
    "version": 3
   },
   "file_extension": ".py",
   "mimetype": "text/x-python",
   "name": "python",
   "nbconvert_exporter": "python",
   "pygments_lexer": "ipython3",
   "version": "3.9.13"
  },
  "orig_nbformat": 4,
  "vscode": {
   "interpreter": {
    "hash": "bec3a0274d5007c13bbc64cc3feb3429b246d3939030f934280c556ece76f0a2"
   }
  }
 },
 "nbformat": 4,
 "nbformat_minor": 2
}
