{
 "cells": [
  {
   "cell_type": "markdown",
   "metadata": {},
   "source": [
    "### Data Exploration ###\n",
    "According To Super Bowl Ads, Americans Love America, Animals And Sex\n",
    "<br>___Data from Feb. 4, 2021 from fivethrityeight.com___"
   ]
  }
 ],
 "metadata": {
  "kernelspec": {
   "display_name": "Python 3.9.13 ('streamlit')",
   "language": "python",
   "name": "python3"
  },
  "language_info": {
   "name": "python",
   "version": "3.9.13"
  },
  "orig_nbformat": 4,
  "vscode": {
   "interpreter": {
    "hash": "891f17cb3069a5a39d16b092ef56217f04149f2890e8d7e5ba0d3a338f6e307b"
   }
  }
 },
 "nbformat": 4,
 "nbformat_minor": 2
}
