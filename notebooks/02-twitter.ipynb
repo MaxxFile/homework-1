{
 "cells": [
  {
   "cell_type": "markdown",
   "metadata": {},
   "source": [
    "# Group Homework - Twitter\n"
   ]
  },
  {
   "cell_type": "markdown",
   "metadata": {},
   "source": [
    "# setup"
   ]
  },
  {
   "cell_type": "markdown",
   "metadata": {},
   "source": [
    "Conda Umgebung \"twitter\" verwenden und 'tweepy' importieren"
   ]
  },
  {
   "cell_type": "code",
   "execution_count": 18,
   "metadata": {},
   "outputs": [],
   "source": [
    "import tweepy\n"
   ]
  },
  {
   "cell_type": "markdown",
   "metadata": {},
   "source": [
    "Nun die keys importieren"
   ]
  },
  {
   "cell_type": "code",
   "execution_count": 19,
   "metadata": {},
   "outputs": [],
   "source": [
    "from keys import *"
   ]
  },
  {
   "cell_type": "markdown",
   "metadata": {},
   "source": [
    "Die importierten keys in der Funktion \"tweepy.Client\" verwenden"
   ]
  },
  {
   "cell_type": "code",
   "execution_count": 20,
   "metadata": {},
   "outputs": [],
   "source": [
    "import requests\n",
    "\n",
    "client = tweepy.Client( bearer_token=bearer_token,\n",
    "                        consumer_key=consumer_key,\n",
    "                        consumer_secret=consumer_secret,\n",
    "                        access_token=access_token,\n",
    "                        access_token_secret=access_token_secret,\n",
    "                        return_type= requests.Response,\n",
    "                        wait_on_rate_limit=True)"
   ]
  },
  {
   "cell_type": "markdown",
   "metadata": {},
   "source": [
    "Eine einfache Query definieren, die tweets des WIRED accounts sucht und retweets nicht berücksichtigt"
   ]
  },
  {
   "cell_type": "code",
   "execution_count": 21,
   "metadata": {},
   "outputs": [],
   "source": [
    "my_query = 'from:WIRED -is:retweet'"
   ]
  },
  {
   "cell_type": "markdown",
   "metadata": {},
   "source": [
    "- Mithilfe der Funktion \"search_recent_tweets\" tweets aus den letzten 7 Tagen holen\n",
    "\n",
    "- Durch \"tweet_fields:author_id\" und \"created_at\" zusätzliche Informationen suchen\n",
    "\n",
    "- Anzahl der gefundenen tweets auf 100 limiteren"
   ]
  },
  {
   "cell_type": "code",
   "execution_count": 24,
   "metadata": {},
   "outputs": [],
   "source": [
    "tweets = client.search_recent_tweets( query=my_query,\n",
    "                                     tweet_fields=['author_id', 'created_at'],\n",
    "                                     max_results=100)\n"
   ]
  },
  {
   "cell_type": "markdown",
   "metadata": {},
   "source": [
    "# In pandas dataframe konvertieren"
   ]
  },
  {
   "cell_type": "markdown",
   "metadata": {},
   "source": [
    "pandas importieren und Daten in ein pandas dataframe konvertieren"
   ]
  },
  {
   "cell_type": "code",
   "execution_count": 26,
   "metadata": {},
   "outputs": [],
   "source": [
    "import pandas as pd\n",
    "\n",
    "tweets_dict = tweets.json()\n",
    "\n",
    "tweets_data = tweets_dict['data']\n",
    "\n",
    "df = pd.json_normalize(tweets_data)"
   ]
  },
  {
   "cell_type": "code",
   "execution_count": 27,
   "metadata": {},
   "outputs": [
    {
     "data": {
      "text/html": [
       "<div>\n",
       "<style scoped>\n",
       "    .dataframe tbody tr th:only-of-type {\n",
       "        vertical-align: middle;\n",
       "    }\n",
       "\n",
       "    .dataframe tbody tr th {\n",
       "        vertical-align: top;\n",
       "    }\n",
       "\n",
       "    .dataframe thead th {\n",
       "        text-align: right;\n",
       "    }\n",
       "</style>\n",
       "<table border=\"1\" class=\"dataframe\">\n",
       "  <thead>\n",
       "    <tr style=\"text-align: right;\">\n",
       "      <th></th>\n",
       "      <th>text</th>\n",
       "      <th>created_at</th>\n",
       "      <th>author_id</th>\n",
       "      <th>edit_history_tweet_ids</th>\n",
       "      <th>id</th>\n",
       "    </tr>\n",
       "  </thead>\n",
       "  <tbody>\n",
       "    <tr>\n",
       "      <th>0</th>\n",
       "      <td>Wi-Fi 6E is the name for devices that operate ...</td>\n",
       "      <td>2022-12-11T19:59:05.000Z</td>\n",
       "      <td>1344951</td>\n",
       "      <td>[1602030229446434816]</td>\n",
       "      <td>1602030229446434816</td>\n",
       "    </tr>\n",
       "    <tr>\n",
       "      <th>1</th>\n",
       "      <td>Robotics professor @hadmoni answers the intern...</td>\n",
       "      <td>2022-12-11T19:00:01.000Z</td>\n",
       "      <td>1344951</td>\n",
       "      <td>[1602015365705465860]</td>\n",
       "      <td>1602015365705465860</td>\n",
       "    </tr>\n",
       "    <tr>\n",
       "      <th>2</th>\n",
       "      <td>Even if you're not living in an off-grid solar...</td>\n",
       "      <td>2022-12-11T18:30:11.000Z</td>\n",
       "      <td>1344951</td>\n",
       "      <td>[1602007854776553474]</td>\n",
       "      <td>1602007854776553474</td>\n",
       "    </tr>\n",
       "    <tr>\n",
       "      <th>3</th>\n",
       "      <td>WIRED\\nA big-screen in your work bag. Bright 1...</td>\n",
       "      <td>2022-12-11T17:59:01.000Z</td>\n",
       "      <td>1344951</td>\n",
       "      <td>[1602000014968082432]</td>\n",
       "      <td>1602000014968082432</td>\n",
       "    </tr>\n",
       "    <tr>\n",
       "      <th>4</th>\n",
       "      <td>For those who have impaired vision or who are ...</td>\n",
       "      <td>2022-12-11T17:30:11.000Z</td>\n",
       "      <td>1344951</td>\n",
       "      <td>[1601992757605711878]</td>\n",
       "      <td>1601992757605711878</td>\n",
       "    </tr>\n",
       "    <tr>\n",
       "      <th>...</th>\n",
       "      <td>...</td>\n",
       "      <td>...</td>\n",
       "      <td>...</td>\n",
       "      <td>...</td>\n",
       "      <td>...</td>\n",
       "    </tr>\n",
       "    <tr>\n",
       "      <th>95</th>\n",
       "      <td>A team of physicists used starlight to measure...</td>\n",
       "      <td>2022-12-09T16:02:04.000Z</td>\n",
       "      <td>1344951</td>\n",
       "      <td>[1601245805972787204]</td>\n",
       "      <td>1601245805972787204</td>\n",
       "    </tr>\n",
       "    <tr>\n",
       "      <th>96</th>\n",
       "      <td>The great holiday rush has become the great ho...</td>\n",
       "      <td>2022-12-09T15:33:04.000Z</td>\n",
       "      <td>1344951</td>\n",
       "      <td>[1601238507392999426]</td>\n",
       "      <td>1601238507392999426</td>\n",
       "    </tr>\n",
       "    <tr>\n",
       "      <th>97</th>\n",
       "      <td>Elizabeth Montoya and Chrissy Fernandez from @...</td>\n",
       "      <td>2022-12-09T15:00:03.000Z</td>\n",
       "      <td>1344951</td>\n",
       "      <td>[1601230198854279168]</td>\n",
       "      <td>1601230198854279168</td>\n",
       "    </tr>\n",
       "    <tr>\n",
       "      <th>98</th>\n",
       "      <td>Fossil’s new Gen 6 Wellness smartwatch looks n...</td>\n",
       "      <td>2022-12-09T14:49:04.000Z</td>\n",
       "      <td>1344951</td>\n",
       "      <td>[1601227435110010880]</td>\n",
       "      <td>1601227435110010880</td>\n",
       "    </tr>\n",
       "    <tr>\n",
       "      <th>99</th>\n",
       "      <td>If you’re curious whether it’s a good idea to ...</td>\n",
       "      <td>2022-12-09T14:02:12.000Z</td>\n",
       "      <td>1344951</td>\n",
       "      <td>[1601215639653425153]</td>\n",
       "      <td>1601215639653425153</td>\n",
       "    </tr>\n",
       "  </tbody>\n",
       "</table>\n",
       "<p>100 rows × 5 columns</p>\n",
       "</div>"
      ],
      "text/plain": [
       "                                                 text  \\\n",
       "0   Wi-Fi 6E is the name for devices that operate ...   \n",
       "1   Robotics professor @hadmoni answers the intern...   \n",
       "2   Even if you're not living in an off-grid solar...   \n",
       "3   WIRED\\nA big-screen in your work bag. Bright 1...   \n",
       "4   For those who have impaired vision or who are ...   \n",
       "..                                                ...   \n",
       "95  A team of physicists used starlight to measure...   \n",
       "96  The great holiday rush has become the great ho...   \n",
       "97  Elizabeth Montoya and Chrissy Fernandez from @...   \n",
       "98  Fossil’s new Gen 6 Wellness smartwatch looks n...   \n",
       "99  If you’re curious whether it’s a good idea to ...   \n",
       "\n",
       "                  created_at author_id edit_history_tweet_ids  \\\n",
       "0   2022-12-11T19:59:05.000Z   1344951  [1602030229446434816]   \n",
       "1   2022-12-11T19:00:01.000Z   1344951  [1602015365705465860]   \n",
       "2   2022-12-11T18:30:11.000Z   1344951  [1602007854776553474]   \n",
       "3   2022-12-11T17:59:01.000Z   1344951  [1602000014968082432]   \n",
       "4   2022-12-11T17:30:11.000Z   1344951  [1601992757605711878]   \n",
       "..                       ...       ...                    ...   \n",
       "95  2022-12-09T16:02:04.000Z   1344951  [1601245805972787204]   \n",
       "96  2022-12-09T15:33:04.000Z   1344951  [1601238507392999426]   \n",
       "97  2022-12-09T15:00:03.000Z   1344951  [1601230198854279168]   \n",
       "98  2022-12-09T14:49:04.000Z   1344951  [1601227435110010880]   \n",
       "99  2022-12-09T14:02:12.000Z   1344951  [1601215639653425153]   \n",
       "\n",
       "                     id  \n",
       "0   1602030229446434816  \n",
       "1   1602015365705465860  \n",
       "2   1602007854776553474  \n",
       "3   1602000014968082432  \n",
       "4   1601992757605711878  \n",
       "..                  ...  \n",
       "95  1601245805972787204  \n",
       "96  1601238507392999426  \n",
       "97  1601230198854279168  \n",
       "98  1601227435110010880  \n",
       "99  1601215639653425153  \n",
       "\n",
       "[100 rows x 5 columns]"
      ]
     },
     "execution_count": 27,
     "metadata": {},
     "output_type": "execute_result"
    }
   ],
   "source": [
    "df"
   ]
  },
  {
   "cell_type": "markdown",
   "metadata": {},
   "source": [
    "Pandas dataframe als \"twitter.csv\" in data/raw abspeichern"
   ]
  },
  {
   "cell_type": "code",
   "execution_count": 33,
   "metadata": {},
   "outputs": [],
   "source": [
    "df.to_csv(\"/Users/Dani/homework-1/data/raw/twitter.csv\")"
   ]
  }
 ],
 "metadata": {
  "kernelspec": {
   "display_name": "Python 3.9.6 64-bit",
   "language": "python",
   "name": "python3"
  },
  "language_info": {
   "codemirror_mode": {
    "name": "ipython",
    "version": 3
   },
   "file_extension": ".py",
   "mimetype": "text/x-python",
   "name": "python",
   "nbconvert_exporter": "python",
   "pygments_lexer": "ipython3",
   "version": "3.9.6"
  },
  "orig_nbformat": 4,
  "vscode": {
   "interpreter": {
    "hash": "31f2aee4e71d21fbe5cf8b01ff0e069b9275f58929596ceb00d14d90e3e16cd6"
   }
  }
 },
 "nbformat": 4,
 "nbformat_minor": 2
}
